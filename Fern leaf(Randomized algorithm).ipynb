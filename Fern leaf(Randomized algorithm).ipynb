{
 "cells": [
  {
   "cell_type": "code",
   "execution_count": 2,
   "metadata": {},
   "outputs": [
    {
     "data": {
      "image/png": "[encoded data removed]",
      "text/plain": [
       "<Figure size 432x288 with 1 Axes>"
      ]
     },
     "metadata": {
      "needs_background": "light"
     },
     "output_type": "display_data"
    }
   ],
   "source": [
    "import matplotlib.pyplot as plt\n",
    "import random as rand\n",
    "import numpy as np\n",
    "\n",
    "fig, ax = plt.subplots()\n",
    "plt.axis('equal')\n",
    "ax.set(xlabel='', ylabel='',title=('fern leaf'))\n",
    "\n",
    "p = [0,0]\n",
    "def func1 (point):\n",
    "    p[0] = 0\n",
    "    p[1] = 0.4 * point[1]\n",
    "    return p\n",
    "\n",
    "def func2 (point):\n",
    "    p[0] = 0.85 * point[0] + 0.04* point[1]\n",
    "    p[1] = -0.04 * point[0] + 0.85 * point[1] + 1.6\n",
    "    return p\n",
    "\n",
    "def func3 (point):\n",
    "    p[0] = 0.2 * point[0] - 0.26 * point[1]\n",
    "    p[1] = 0.23 * point[0] + 0.22 * point[1] + 1.6\n",
    "    return p\n",
    "    \n",
    "def func4 (point):\n",
    "    p[0] = -0.15 * point[0] + 0.28 * point[1]\n",
    "    p[1] = 0.26 * point[0] + 0.24 * point[1] + 0.44\n",
    "    return p\n",
    "\n",
    "###main Block\n",
    "point = [0,0]\n",
    "s = 1\n",
    "color = 'g'\n",
    "N = 500000\n",
    "x=[]\n",
    "y=[]\n",
    "plt.scatter(point[0],point[1] , s , color )\n",
    "for i in range (N):\n",
    "    funcnum = rand.randrange(1,11)\n",
    "    if funcnum < 2:\n",
    "        point = func1(point)\n",
    "        x.append(point[0])\n",
    "        y.append(point[1])\n",
    "    elif funcnum < 5 :\n",
    "        point = func2(point)\n",
    "        x.append(point[0])\n",
    "        y.append(point[1])\n",
    "    elif funcnum < 8 :\n",
    "        point = func3(point)\n",
    "        x.append(point[0])\n",
    "        y.append(point[1])\n",
    "    elif funcnum < 11 :\n",
    "        point = func4(point)\n",
    "        x.append(point[0])\n",
    "        y.append(point[1])        \n",
    "\n",
    "plt.scatter(x,y , s , color )\n",
    "plt.show()    "
   ]
  }
 ],
 "metadata": {
  "kernelspec": {
   "display_name": "Python 3",
   "language": "python",
   "name": "python3"
  },
  "language_info": {
   "codemirror_mode": {
    "name": "ipython",
    "version": 3
   },
   "file_extension": ".py",
   "mimetype": "text/x-python",
   "name": "python",
   "nbconvert_exporter": "python",
   "pygments_lexer": "ipython3",
   "version": "3.7.3"
  }
 },
 "nbformat": 4,
 "nbformat_minor": 2
}
