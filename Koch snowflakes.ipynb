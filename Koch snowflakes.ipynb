{
 "cells": [
  {
   "cell_type": "code",
   "execution_count": 4,
   "metadata": {},
   "outputs": [
    {
     "data": {
      "image/png": "[encoded data removed]",
      "text/plain": [
       "<Figure size 432x288 with 1 Axes>"
      ]
     },
     "metadata": {
      "needs_background": "light"
     },
     "output_type": "display_data"
    }
   ],
   "source": [
    "import matplotlib\n",
    "import matplotlib.pyplot as plt\n",
    "import numpy as np\n",
    "\n",
    "fig, ax = plt.subplots()\n",
    "plt.axis('equal')\n",
    "ax.set(xlabel='', ylabel='',\n",
    "       title='Koch snowflakes')\n",
    "\n",
    "l = 1 # legth of the first line\n",
    "\n",
    "def drawline (xpoint , ypoint, l , angle):\n",
    "    X=[xpoint , xpoint + l *np.cos(angle /180 * np.pi)]\n",
    "    Y=[ypoint , ypoint + l *np.sin(angle /180 * np.pi)]\n",
    "    plt.plot(X , Y , c = 'blue')\n",
    "    return X[-1] , Y[-1] , angle\n",
    "\n",
    "def koch (l , level):\n",
    "    if l == 1:\n",
    "        global x , y , angle\n",
    "        x = 0\n",
    "        y = 0\n",
    "        angle = 0\n",
    "    if level == 0:\n",
    "        x ,y , angle = drawline(x , y , l , angle)\n",
    "    else:\n",
    "        l /= 3\n",
    "        koch(l , level -1 )\n",
    "        angle += 60\n",
    "        koch(l , level -1 )\n",
    "        angle -= 120\n",
    "        koch(l , level -1 )\n",
    "        angle += 60\n",
    "        koch(l , level -1 )\n",
    "    return    \n",
    "\n",
    "    \n",
    "    \n",
    "#### Main Block\n",
    "koch (l , 7)\n",
    "plt.show()    \n",
    "        \n",
    "        \n"
   ]
  },
  {
   "cell_type": "code",
   "execution_count": null,
   "metadata": {},
   "outputs": [],
   "source": []
  }
 ],
 "metadata": {
  "kernelspec": {
   "display_name": "Python 3",
   "language": "python",
   "name": "python3"
  },
  "language_info": {
   "codemirror_mode": {
    "name": "ipython",
    "version": 3
   },
   "file_extension": ".py",
   "mimetype": "text/x-python",
   "name": "python",
   "nbconvert_exporter": "python",
   "pygments_lexer": "ipython3",
   "version": "3.7.3"
  }
 },
 "nbformat": 4,
 "nbformat_minor": 2
}
