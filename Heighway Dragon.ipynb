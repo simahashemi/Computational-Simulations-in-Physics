{
 "cells": [
  {
   "cell_type": "code",
   "execution_count": 16,
   "metadata": {},
   "outputs": [
    {
     "data": {
      "image/png": "[encoded data removed]",
      "text/plain": [
       "<Figure size 432x288 with 1 Axes>"
      ]
     },
     "metadata": {
      "needs_background": "light"
     },
     "output_type": "display_data"
    }
   ],
   "source": [
    "import matplotlib\n",
    "import matplotlib.pyplot as plt\n",
    "import numpy as np\n",
    "#right = +1\n",
    "#left = -1\n",
    "\n",
    "fig, ax = plt.subplots()\n",
    "plt.axis('equal')\n",
    "ax.set(xlabel='', ylabel='',\n",
    "       title='Heighyway Dragon')\n",
    "\n",
    "\n",
    "def DNA (level): \n",
    "    if level == 1 :\n",
    "        dna = []\n",
    "        dna.append(1)\n",
    "    else:\n",
    "        dna = DNA(level-1)\n",
    "        rna = []\n",
    "        dnalength = 2 **(level -1) -1\n",
    "        for i in range(0, dnalength):\n",
    "            if dna[dnalength-i-1]== 1:\n",
    "                rna.insert(i,-1)\n",
    "            else:\n",
    "                rna.insert(i,1)\n",
    "        dna.append(1)\n",
    "        dna.extend(rna)\n",
    "    \n",
    "    return dna\n",
    "\n",
    "def drawline (xpoint , ypoint, l , angle ):\n",
    "    X=[xpoint , xpoint + l *np.cos(angle /180 * np.pi)]\n",
    "    Y=[ypoint , ypoint + l *np.sin(angle /180 * np.pi)]\n",
    "    plt.plot(X , Y , c = 'g' )\n",
    "    return X[-1] , Y[-1] , angle\n",
    "\n",
    "def dragon(level):\n",
    "    length = 1/(2**level)\n",
    "    angle = 45 * level\n",
    "    gen = DNA(level)\n",
    "    for i in range(0 , 2 ** level  ):\n",
    "        if i == 0 :\n",
    "            x , y ,angle = drawline(0 ,0 , length , angle)\n",
    "        else:\n",
    "            if gen[i-1]== 1:\n",
    "                angle -= 90\n",
    "            else:\n",
    "                angle += 90\n",
    "            x , y ,angle = drawline(x ,y , length , angle )\n",
    "            \n",
    "    return\n",
    "\n",
    "\n",
    "### Main Block\n",
    "\n",
    "dragon(12)\n",
    "plt.show()\n",
    "                \n",
    "                    \n",
    "            \n",
    "            "
   ]
  },
  {
   "cell_type": "code",
   "execution_count": null,
   "metadata": {},
   "outputs": [],
   "source": []
  },
  {
   "cell_type": "code",
   "execution_count": null,
   "metadata": {},
   "outputs": [],
   "source": []
  },
  {
   "cell_type": "code",
   "execution_count": null,
   "metadata": {},
   "outputs": [],
   "source": []
  },
  {
   "cell_type": "code",
   "execution_count": null,
   "metadata": {},
   "outputs": [],
   "source": []
  },
  {
   "cell_type": "code",
   "execution_count": null,
   "metadata": {},
   "outputs": [],
   "source": []
  },
  {
   "cell_type": "code",
   "execution_count": null,
   "metadata": {},
   "outputs": [],
   "source": []
  }
 ],
 "metadata": {
  "kernelspec": {
   "display_name": "Python 3",
   "language": "python",
   "name": "python3"
  },
  "language_info": {
   "codemirror_mode": {
    "name": "ipython",
    "version": 3
   },
   "file_extension": ".py",
   "mimetype": "text/x-python",
   "name": "python",
   "nbconvert_exporter": "python",
   "pygments_lexer": "ipython3",
   "version": "3.7.3"
  }
 },
 "nbformat": 4,
 "nbformat_minor": 2
}
