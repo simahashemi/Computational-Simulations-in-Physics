{
 "cells": [
  {
   "cell_type": "code",
   "execution_count": 5,
   "metadata": {},
   "outputs": [
    {
     "data": {
      "image/png": "[encoded data removed]",
      "text/plain": [
       "<Figure size 432x288 with 1 Axes>"
      ]
     },
     "metadata": {
      "needs_background": "light"
     },
     "output_type": "display_data"
    }
   ],
   "source": [
    "import matplotlib\n",
    "import matplotlib.pyplot as plt\n",
    "import numpy as np\n",
    "\n",
    "fig, ax = plt.subplots()\n",
    "#plt.xlim((-100, 100))\n",
    "#plt.ylim((-100, 100))\n",
    "plt.axis('equal')\n",
    "ax.set(xlabel='', ylabel='',\n",
    "       title='Pascal triangle')\n",
    "\n",
    "def Pascal (row):\n",
    "    x = []\n",
    "    for i in range(0 , row):\n",
    "        x.append([])\n",
    "        for j in range (0, i+1):\n",
    "            if  i==0 :\n",
    "                x[i].append(1)\n",
    "            else:\n",
    "                if j == 0:\n",
    "                    x[i].insert(j , 1)\n",
    "                elif j == i:\n",
    "                    x[i].insert(j , 1)\n",
    "                else:        \n",
    "                    x[i].insert(j, x[i-1][j] + x[i-1][j-1])\n",
    "    return x\n",
    "\n",
    "\n",
    "def picture (row):\n",
    "    x = Pascal(row)\n",
    "    pic = []\n",
    "    for i in range(0 , row):\n",
    "        pic.append([])\n",
    "        for j in range(0 , 2 * row -1 ):\n",
    "            pic[i].append(0)        \n",
    "    for i in range (0 , row):\n",
    "        thefirstindex = int((2*row -1)/2) - i\n",
    "        for j in range (0 , len(x[i])):\n",
    "            if i % 2 == 0:\n",
    "                pic[i][thefirstindex + 2 * j] = x[i][j]\n",
    "            else:\n",
    "                pic[i][thefirstindex + 2 * j] = x[i][j]\n",
    "                           \n",
    "    return pic\n",
    "\n",
    "###Main Block\n",
    "row = 128\n",
    "triangle = picture(row)\n",
    "for i in range(0 , row):\n",
    "    for j in range(0 , 2 * row -1):\n",
    "        if triangle[i][j] != 0: \n",
    "            if triangle[i][j] % 2 == 0:\n",
    "                plt.scatter(j, i, s=10, c='b')\n",
    "            else:\n",
    "                plt.scatter(j, i, s=10, c='y')\n",
    "            \n",
    "            \n",
    "\n",
    "plt.show()\n",
    "\n",
    "\n",
    "                \n",
    "            \n",
    "            \n",
    "             \n",
    "    \n",
    "            \n",
    "        "
   ]
  },
  {
   "cell_type": "code",
   "execution_count": null,
   "metadata": {},
   "outputs": [],
   "source": []
  },
  {
   "cell_type": "code",
   "execution_count": null,
   "metadata": {},
   "outputs": [],
   "source": []
  }
 ],
 "metadata": {
  "kernelspec": {
   "display_name": "Python 3",
   "language": "python",
   "name": "python3"
  },
  "language_info": {
   "codemirror_mode": {
    "name": "ipython",
    "version": 3
   },
   "file_extension": ".py",
   "mimetype": "text/x-python",
   "name": "python",
   "nbconvert_exporter": "python",
   "pygments_lexer": "ipython3",
   "version": "3.7.3"
  }
 },
 "nbformat": 4,
 "nbformat_minor": 2
}
